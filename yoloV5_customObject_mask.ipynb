{
  "nbformat": 4,
  "nbformat_minor": 0,
  "metadata": {
    "colab": {
      "name": "yoloV5_customObject_mask.ipynb",
      "provenance": [],
      "include_colab_link": true
    },
    "kernelspec": {
      "name": "python3",
      "display_name": "Python 3"
    },
    "accelerator": "GPU"
  },
  "cells": [
    {
      "cell_type": "markdown",
      "metadata": {
        "id": "view-in-github",
        "colab_type": "text"
      },
      "source": [
        "<a href=\"https://colab.research.google.com/github/bharathkumarreddy19/Face-Mask-Detection-using-YOLO-v3/blob/master/yoloV5_customObject_mask.ipynb\" target=\"_parent\"><img src=\"https://colab.research.google.com/assets/colab-badge.svg\" alt=\"Open In Colab\"/></a>"
      ]
    },
    {
      "cell_type": "markdown",
      "metadata": {
        "id": "BsbwjtXPBfkN"
      },
      "source": [
        "# **SUBSCRIBE to the [channel](https://www.youtube.com/user/19daredevill?sub_confirmation=1) to learn cool things every week**\n",
        "# **Keep Learning -> Keep Growing**"
      ]
    },
    {
      "cell_type": "markdown",
      "metadata": {
        "id": "EI1ZflrpBhMf"
      },
      "source": [
        "![Subscribe](https://media3.giphy.com/media/XGILFirobxDWglaUyj/giphy.gif?cid=ecf05e474afdd7ef5fe2c0fa50f87822d705fbb2613a3b5c&rid=giphy.gif)"
      ]
    },
    {
      "cell_type": "code",
      "metadata": {
        "id": "FyE66nwkN3xY"
      },
      "source": [
        "from IPython.display import HTML\n",
        "HTML('<iframe width=\"560\" height=\"315\" src=\"https://www.youtube.com/embed/fOskhV3t-k8\" frameborder=\"0\" allow=\"autoplay; encrypted-media\" allowfullscreen></iframe>')"
      ],
      "execution_count": null,
      "outputs": []
    },
    {
      "cell_type": "markdown",
      "metadata": {
        "id": "BX3HDLsiWmW4"
      },
      "source": [
        "# **Step 1: Clone Repo and install all dependencies**"
      ]
    },
    {
      "cell_type": "code",
      "metadata": {
        "id": "wbvMlHd_QwMG"
      },
      "source": [
        "!git clone https://github.com/ultralytics/yolov5\n",
        "!pip install -qr yolov5/requirements.txt\n",
        "%cd yolov5\n",
        "\n",
        "import torch\n",
        "from IPython.display import Image, clear_output\n",
        "from utils.google_utils import gdrive_download\n",
        "\n",
        "clear_output()"
      ],
      "execution_count": 1,
      "outputs": []
    },
    {
      "cell_type": "markdown",
      "metadata": {
        "id": "M1L6xNMqWvbx"
      },
      "source": [
        "# **Step 2: Download the custom data-set that you are interested in (using the Roboflow api)**  [Link to datasets](https://public.roboflow.com/)"
      ]
    },
    {
      "cell_type": "code",
      "metadata": {
        "id": "rDQdEcQxr6X5",
        "outputId": "76bab16b-b79c-4bc8-8212-971ba1781fb7",
        "colab": {
          "base_uri": "https://localhost:8080/"
        }
      },
      "source": [
        "%cd /content\n",
        "!curl -L \"https://public.roboflow.com/ds/YYx7Dbi36I?key=ZlO7WhqyNO\" > roboflow.zip; unzip roboflow.zip; rm roboflow.zip\n"
      ],
      "execution_count": null,
      "outputs": [
        {
          "output_type": "stream",
          "text": [
            "/content\n",
            "  % Total    % Received % Xferd  Average Speed   Time    Time     Time  Current\n",
            "                                 Dload  Upload   Total   Spent    Left  Speed\n",
            "100   896  100   896    0     0   1034      0 --:--:-- --:--:-- --:--:--  1034\n",
            "100 3791k  100 3791k    0     0  1616k      0  0:00:02  0:00:02 --:--:-- 2978k\n",
            "Archive:  roboflow.zip\n",
            " extracting: test/images/w1240-p16x9-0e48e0098f6e832f27d8b581b33bbc72b9967a63_jpg.rf.34ed1e8f70eebdabaf43ab9d40dc1c9b.jpg  \n",
            " extracting: test/images/RTX7CCFN_jpg.rf.66ed5c5054f30d933d19ab3d56ace004.jpg  \n",
            " extracting: test/images/the-first-day-of-wuhan-s-closure-some-people-fled-some-panicked_jpg.rf.0302fefb0879eb37736a704ca5d070ff.jpg  \n",
            " extracting: test/images/1288126-10255706714jpg_jpg.rf.95f7324cbfd48e0386e0660b5e932223.jpg  \n",
            " extracting: test/images/126202-untitled-design-13_jpg.rf.56b50d413464989bb2232448a8fbb915.jpg  \n",
            " extracting: test/images/r1p00017o8171pnq407_jpg.rf.6fd25b7219a249e97f54fcabf2b52726.jpg  \n",
            " extracting: test/images/w1240-p16x9-2019-10-04t075956z_1862636027_rc15d4d49d00_rtrmadp_3_hongkong-protests_jpg.rf.061f2c7f7d17a0b472510eadb717a0b9.jpg  \n",
            " extracting: test/images/w1240-p16x9-fa978043deff83fed485af12d16e39c61398fc30_jpg.rf.185d01b7e55e049c6661b8ecd49679fc.jpg  \n",
            " extracting: test/images/15391513329330sooq10859_jpg.rf.89c8524c2096175fa2c728e5d73f1c28.jpg  \n",
            " extracting: test/images/15391513324714o1n0r10n6_jpg.rf.a91fbc7be8a94ed3c48d2e4b35bd53bb.jpg  \n",
            " extracting: train/images/1580128422_jpg.rf.182b42586c5d5ea95a75c17449c48ad3.jpg  \n",
            " extracting: test/images/1579924271_jpg.rf.be5b27c2b2801bccc191e6dbd9bfccca.jpg  \n",
            " extracting: train/images/pollution-mask-CE5HYF_jpg.rf.21d8ab9eb19a6cd10956c96a0cfeff57.jpg  \n",
            " extracting: test/images/0_Concern-In-China-As-Mystery-Virus-Spreads_jpg.rf.3135dfc5feab288d76a4ccfd22dfc5bf.jpg  \n",
            " extracting: train/images/1-200102094256105_png.rf.22dcc10b1378b9ea7f05c83d04c052aa.jpg  \n",
            " extracting: train/images/US-expands-coronavirus-screenings-United-suspends-some-flights-to-China_jpg.rf.1cf554343f0453f6e0a1bd2781cebea9.jpg  \n",
            " extracting: test/images/shutterstock_1627199179_jpg.rf.8432d033a37b3d142ec4ffcede508c7d.jpg  \n",
            " extracting: train/images/sdsdsff_jpg.rf.09e108ae66cf64a3e852ba71cd079040.jpg  \n",
            " extracting: train/images/ST_20190917_SPTHAZE_5120715_jpg.rf.09fb2eecb2449a63f1f239f5fbb713aa.jpg  \n",
            " extracting: test/images/phplpE73q_jpg.rf.bd81cab9f8ff2674ce2e58278f7d37fa.jpg  \n",
            " extracting: train/images/w1240-p16x9-5f8aa310737f8e0e6c43d95a68a82b03b6f60106_jpg.rf.104bedd5b3bad4a0d0a453203e0617a3.jpg  \n",
            " extracting: train/images/so(24) (1)_jpg.rf.1f4af0bfb01c55eb2ebf890b72a6f58c.jpg  \n",
            " extracting: test/images/1224331650_g_400-w_g_jpg.rf.b816f49e2d84044fc997a8cbd55c347d.jpg  \n",
            " extracting: train/images/thumbnail-ba5c72edb320b49a69e86b05775c49b2-scaled-1_jpeg.rf.035d587add7bc2a6c7616d72e56bfad4.jpg  \n",
            " extracting: train/images/so(19)_jpg.rf.0f2cb945829d1efef8e7fdf7757bd27e.jpg  \n",
            " extracting: train/images/stsciRq_png.rf.32af3f507296909b52bed7d5649e6d45.jpg  \n",
            " extracting: train/images/Smog-Mask-PM2-5-Carbon-Filter-Face-Masks-Fog-Dust-Air-Cleaner-anti-pollution-Face-Protector_jpg.rf.282b5e45b24750c08d6ea03ec9120177.jpg  \n",
            " extracting: train/images/Untitled-design-13_png.rf.612ee6f2911872a9bc2a7de326dea042.jpg  \n",
            " extracting: train/images/r1p00017o82psp0o0or_jpg.rf.4bd9169e3618ad676e3840939a868342.jpg  \n",
            " extracting: train/images/1152x768_246964803156_jpg.rf.3ea9205f57b870e2ca83cc18349402f4.jpg  \n",
            " extracting: train/images/0002526673_jpg.rf.2c547115c01c1b5a10c6d467551f0cae.jpg  \n",
            " extracting: train/images/1_13_jpg.rf.53ab50cc136587dec9d42678014977f1.jpg  \n",
            " extracting: train/images/PRI_129079114_1580299603_195_jpg.rf.4906d1ce61ad9a5c86ccfe7e4e261159.jpg  \n",
            " extracting: train/images/1_R_kFK9pNLfKAuopY_lAaPQ_jpeg.rf.6099e0a6d528f19fa772e7aa9f1755e5.jpg  \n",
            " extracting: train/images/TASS38012699_jpg.rf.2ae7b2aacba7e9e3eeb8dd3df8df8baf.jpg  \n",
            " extracting: train/images/UDD3JG3E4JFQ5KSFNGQQ5REINU_jpg.rf.407dec06f156a19662ff3e2cb2719dce.jpg  \n",
            " extracting: train/images/TB2R28UvUOWBKNjSZKzXXXfWFXa_!!1116877752_jpg.rf.246ac310a70b6f9a13d530c71816a5af.jpg  \n",
            " extracting: train/images/000b7b75-1600_jpg.rf.5d7117e8571505dbfe49e2f737089ea0.jpg  \n",
            " extracting: train/images/125895-untitled-design-30_jpg.rf.6465ad60ebf89d2ea25dded290c87583.jpg  \n",
            " extracting: train/images/RTX1GIDS_jpg.rf.5b4032f806a5d6f517ee374f27bd1f63.jpg  \n",
            " extracting: train/images/pic_list_out_2285_jpg.rf.3ff40a6045e4046772bc2c2645ccc645.jpg  \n",
            " extracting: train/images/1303078448-China-Coronavirus-Death-Toll-Hits-304_jpg.rf.353f9ffe10e6823c6c363687d88441ba.jpg  \n",
            " extracting: train/images/130624011830-malaysia-smog-students-horizontal-large-gallery_jpg.rf.52c2d92bc918a8bf50e76895031ec3a0.jpg  \n",
            " extracting: train/images/unnamed_jpg.rf.638850185c6f05a027f34188518f6a9e.jpg  \n",
            " extracting: train/images/shutterstock_289132226_jpg.rf.2fb2653c829b5d8f4442db65341441c0.jpg  \n",
            " extracting: train/images/1125506397_15801322207531n_jpg.rf.2c690122cfecf93fe31fcd327986e0e2.jpg  \n",
            " extracting: train/images/0450908675_50159485_mutation-virus-chine-inquietude_jpg.rf.466d55e174c1bc43889c49b06aad0d75.jpg  \n",
            " extracting: train/images/1249493_jpg.rf.64cad435d15dc175168c3595c69d0de2.jpg  \n",
            " extracting: train/images/1125506397_15801322207071n_jpg.rf.4af8170b619c5e1992c9ffd14c60d031.jpg  \n",
            " extracting: train/images/ST_20170401_EASAND_3046471_jpg.rf.53b81c9038b86e2964978d3d9eefea8f.jpg  \n",
            " extracting: train/images/sars-gettyimages-157005245_jpg.rf.5f33a6bd1f780b98e348507f3835d4d6.jpg  \n",
            " extracting: train/images/rally-against-an-anti-mask-law-meant-to-deter-anti-government-protesters-in-hong-kong-china-shutterstock-editorial-10435716z_jpg.rf.67084d16d65a043ace3f2e66af294654.jpg  \n",
            " extracting: train/images/0_8w7mkX-PHcfMM5s6_jpeg.rf.74932d662e4077ea5e4374a0038e5757.jpg  \n",
            " extracting: train/images/0602623232127-web-tete_jpg.rf.70c23b5e96669fb4f31a7cbd6d52a670.jpg  \n",
            " extracting: train/images/IMG_5690 2_jpg.rf.77600927c589b6817b9ac8349615381f.jpg  \n",
            " extracting: train/images/0200b38c89b16c37c5de8e247bb00c2f_jpg.rf.6a5b142fd82320d571402836bce2cf0a.jpg  \n",
            " extracting: train/images/W37H3GWNO5EV5HTJQNP4KLIRGI_jpg.rf.6b7420e9e1049f6ac7241cce59dcc6a8.jpg  \n",
            " extracting: train/images/1000x-1_jpg.rf.743291b4977f67bdd59a05ee98c9e28b.jpg  \n",
            " extracting: train/images/1042977068_jpg.rf.84c3af9736d1fe2db012d0e91aee5b23.jpg  \n",
            " extracting: train/images/1024x576_939430607723_jpg.rf.7048dfb767a151c5565c1470cec10027.jpg  \n",
            " extracting: train/images/0_10725_jpg.rf.99ff78c82dadd6d49408164489cb6582.jpg  \n",
            " extracting: train/images/purchase-reauisition-5de4d0f99c77d_jpg.rf.9757c9222d6e966e98faa8019a23ba0f.jpg  \n",
            " extracting: train/images/1553605632_9d5877d8_60_jpg.rf.827ad9a39f672aba0756c9ac68d25239.jpg  \n",
            " extracting: train/images/pjecDNMmCUQmbDoJx1fdqolnfHtpsfFK8jTA2Ng0wNg_jpeg.rf.8fe47f350be6db2c10adbc41c7f55e5b.jpg  \n",
            " extracting: train/images/1030611863_jpg.rf.aa3b539ebd06efc89eab0b823f128b96.jpg  \n",
            " extracting: train/images/004_1024_jpeg.rf.763d99dadfb9fe5f3f72ff3cc34f88b6.jpg  \n",
            " extracting: train/images/w1240-p16x9-6f1db5e0460631cfa98d2d6d8032942f81700bb0_jpg.rf.8c642180c2f1fc98109dad7ff09fe24c.jpg  \n",
            " extracting: train/images/1580173904-0001oc33f_jpg.rf.7f27c2bbdd00c11ba838ab7bb71694f4.jpg  \n",
            " extracting: train/images/soooo_jpg.rf.accf5a6d0b0fe444b354a2d293821715.jpg  \n",
            " extracting: train/images/1579928067_250120120154270000005e2bca03bf464_jpg.rf.a50ec0a4e4fcb491cce7766877b04c05.jpg  \n",
            " extracting: train/images/rawImage_jpg.rf.8bdbe22463c3162f05180ff91e67f039.jpg  \n",
            " extracting: train/images/1580166133-5b61094cac11561b0cbe09826e32a924_jpg.rf.7bdada2e62db2019a9a2f936083467c1.jpg  \n",
            " extracting: train/images/1029731146_jpg.rf.7c43f38028cd269068c0ea434b88a5c7.jpg  \n",
            " extracting: train/images/-1x-1_jpg.rf.8d697c00929e06e6655c08835cc66c02.jpg  \n",
            " extracting: train/images/r1000019q689461s9r0_jpg.rf.ae75478d4b2292f9d43a58dc102771df.jpg  \n",
            " extracting: train/images/-I1-MS09uaqsLdGTFkgnS0Rcg1mmPyAj95ySg_eckoM_jpeg.rf.8f09ebde8b7b3ea6f9180eff345ec176.jpg  \n",
            " extracting: train/images/PhotoGrid_1580452532909_jpg.rf.775b14bea12734249ff8fb91ba036856.jpg  \n",
            " extracting: train/images/1133x768_20200130000023_jpg.rf.aa3997898dca01ea870b9cba18d5e3cf.jpg  \n",
            " extracting: train/images/1580053154-5839_jpg.rf.b5682ce5d695469972b6b564e9d1f0ef.jpg  \n",
            " extracting: train/images/r1p00017o80q34s9781_jpg.rf.ce1875a23da51004225ab183255da6c5.jpg  \n",
            " extracting: train/images/sdfsdfsfff_jpg.rf.c4aca6cc392df43f61e14ac002741ab6.jpg  \n",
            " extracting: train/images/012106_jpg_1140x855_jpg.rf.c6524deb426da2c246a03ac0e610f0cb.jpg  \n",
            " extracting: train/images/RZXE24HFK5GSVKVSN57VCVPQ4M_jpg.rf.b60c1ee75de4ff9d4259198376ebb277.jpg  \n",
            " extracting: train/images/1579683152-0e3ba5698b090c0fda95caa5d2aa7b31_jpg.rf.b49395264ccc2be2784ab367a8ac1307.jpg  \n",
            " extracting: train/images/1539151332674193npsrq70_jpg.rf.c1fc5c301d12d8a77bd0bfc961876397.jpg  \n",
            " extracting: train/images/003_1024_jpeg.rf.bc025d99896124ddce6fa706b4a5c7b3.jpg  \n",
            " extracting: train/images/skynews-coronavirus-london-fashion-week_4920359_jpg.rf.cf79aa98be9f8687d550dc35caf9edb6.jpg  \n",
            " extracting: train/images/phppaNXxb_jpg.rf.c406fdd46ea2438e4f111a6a35250d5a.jpg  \n",
            " extracting: train/images/smartmi-3pcs-filter-mask-pm25-haze-dustproof-mask-with-vent_jpg.rf.c5b0c5b7666032c5b4634740eafde234.jpg  \n",
            " extracting: train/images/thai_cov-transmission030220_jpg.rf.bdec1f9f73cff2be8d795fcc7665525b.jpg  \n",
            " extracting: train/images/000_1ov3n5_0_jpeg.rf.a23f1c89491779996f4519858277a4e0.jpg  \n",
            " extracting: train/images/virus_protection123_jpg.rf.d401b0dc63d28e5afed1324e32b5e985.jpg  \n",
            " extracting: train/images/shutterstock_584407723_jpg.rf.bb5ad9ec2eb1ae4510ee88524e453043.jpg  \n",
            " extracting: train/images/soo(1)_jpg.rf.d722163e3c3e0b9f1e4b7a73ea6893cb.jpg  \n",
            " extracting: train/images/1477443223-1445746883_jpg.rf.d05e6a29597722ffcdb222614c353915.jpg  \n",
            " extracting: train/images/101d6660a8974050b613dd2e6bd59390_jpg.rf.d2571bc2121193beb8e9f49af8fc7170.jpg  \n",
            " extracting: train/images/1125506397_15801322206131n_jpg.rf.da8fa082b994849888e09bb86b146aa0.jpg  \n",
            " extracting: train/images/virus_jpg.rf.dc9789ac36ce03125dccaad2f106ed90.jpg  \n",
            " extracting: train/images/remote (1)_jpeg.rf.df7fe4fb8181ab460fc57d04a9991de5.jpg  \n",
            " extracting: train/images/1422808187-3291816118_jpg.rf.d9c28ba7c110caac049036d25e367b65.jpg  \n",
            " extracting: train/images/PHOTriZgIKIgsnNLdBJG75vj200203_1000x2000_jpg.rf.c21824c73f10288c1b316ecd78728b64.jpg  \n",
            " extracting: train/images/RTX7CD4D-e1580252893876_jpg.rf.d9113083bf979d446264b568cc49661a.jpg  \n",
            " extracting: train/images/1140-travelers-at-hong-kong-airport_jpg.rf.df931ff698a201d616311ed661b6a185.jpg  \n",
            " extracting: train/images/1482202839575_jpg.rf.e1a11347c2af5242298a581202adaee0.jpg  \n",
            " extracting: train/images/012420_coronoa_masks_web_jpg.rf.dcc655a29611260a439d59c13b0cad1a.jpg  \n",
            " extracting: train/images/r1p00017o8357s6sno6_jpg.rf.e189080820479c894db2ff1725a7cbe0.jpg  \n",
            " extracting: train/images/1155x768_20200129000089_jpg.rf.e89d69a1fa6fc7cf08e8c30317f7274d.jpg  \n",
            " extracting: train/images/0209-00176-076b1_jpg.rf.e9d992f7258f2c5ae8c29f76a727efda.jpg  \n",
            " extracting: train/images/135e-huxwryw6451820_jpg.rf.e8f7c5a306ba8b15ab37577bae196c2f.jpg  \n",
            " extracting: train/images/1024x737_09186876046_jpg.rf.e999eaf25d69174a9c12b9777042b267.jpg  \n",
            " extracting: train/images/Surgical-Mask-Effectiveness_jpg.rf.ecee1d8215799c8eacb670622f814af9.jpg  \n",
            " extracting: train/images/upload-productImg-1527496119162_320_234_jpeg.rf.d7affc7d5fe3df8bc9a7c5b9678a3c3c.jpg  \n",
            " extracting: train/images/r1000019q679o5611r7_jpg.rf.edff9783255fac6a6ee79a6e985c7af9.jpg  \n",
            " extracting: train/images/skypost16012020a01s_jpg.rf.f52aa2d35c2002c3003e1771ea8e650d.jpg  \n",
            " extracting: train/images/1288788-une-employee-aide-des-voyageurs-en-provenance-de-chine-le-26-janvier-2020-a-l-aeroport-de-roissy_jpg.rf.f896f89876de52df2fed7086bc94d1fd.jpg  \n",
            " extracting: train/images/15-08608-001_jpg.rf.f23eeb640db01b5c025ae54c9c6f3d7f.jpg  \n",
            " extracting: valid/images/000_1OC3DT_jpg.rf.0570a1f4ab79e324496c311456b6b1f8.jpg  \n",
            " extracting: train/images/001_1024_jpeg.rf.f915f4689737658b59732df33fdbee22.jpg  \n",
            " extracting: valid/images/1197315184_jpg_0_jpg.rf.39eb63061e0efb89a8f12a31d676daea.jpg  \n",
            " extracting: valid/images/phpM5suKS_jpg.rf.556d78a695ded9fb5f5d1848c85ed2e0.jpg  \n",
            " extracting: train/images/11893820-3x2-xlarge_jpg.rf.ff6ffd94fa9e0d9dcfcc97380f0aede5.jpg  \n",
            " extracting: valid/images/r1000019q669394n9qp_jpg.rf.827235a6fff02f26ce1320d926f9c5bd.jpg  \n",
            " extracting: valid/images/1197620896_jpg.rf.161417d4b3eafad7376c0ed2f2d66f51.jpg  \n",
            " extracting: valid/images/15391513321824spp815on8_jpg.rf.0fb7d846ae187777d61da0d24f67114c.jpg  \n",
            " extracting: valid/images/w1240-p16x9-coronavirus_CHINA-HEALTH_jpg.rf.73f3f135732ac6139a592ab1139f604a.jpg  \n",
            " extracting: valid/images/0ad90195-cd77-489e-bf85-08c83b80d3e0_jpg.rf.20ed8f759c47a565b60684cfd4524a21.jpg  \n",
            " extracting: valid/images/08_11_2019-airpollution_234_19737819_192539446_jpg.rf.113e45f57dba09fde40d8490ae957fe6.jpg  \n",
            " extracting: valid/images/022814asiatodaymasks_960x540_jpg.rf.20ad64bc5ec9eed694d9f559b9aba31d.jpg  \n",
            " extracting: train/images/1580048340614_jpg.rf.fef748a304d19ffc7c5250005c4a397d.jpg  \n",
            " extracting: valid/images/1483800496-3386248642_jpg.rf.1aff1d3aed5aa07389738834833e8b9b.jpg  \n",
            " extracting: valid/images/0009S6815V3PEU1N-C123-F4_jpg.rf.6b0befd018e6308b6029a17a2ee08c48.jpg  \n",
            " extracting: valid/images/0109-00176-096b1_jpg.rf.c55de2d88f34d1217acdc245fd8292fa.jpg  \n",
            " extracting: valid/images/025418_springwest005_jpg.rf.9d634581749567c27d459b574b431f74.jpg  \n",
            " extracting: valid/images/stock-photo-mother-and-her-daughter-walking-go-to-school-with-wearing-a-protection-mask-against-pm-air-1346870465_jpg.rf.a6b929aae5f5f3dc8beac91039f8c85a.jpg  \n",
            " extracting: valid/images/w1240-p16x9-CORONAVIRUS-CHINA-HEALTH-APPLE STORE_jpg.rf.8f83c6922f9fa841301e6722c35ec9e4.jpg  \n",
            " extracting: valid/images/S1-EV360_FACEMA_M_20200130144349_jpg.rf.a641b3a9b315b4de3b3214da280cafab.jpg  \n",
            " extracting: valid/images/10fea_8011463765e2aa28b386cf_jpg.rf.0b90546b568e369f33ca67b3208b1655.jpg  \n",
            " extracting: valid/images/002_1024_jpeg.rf.b8c41940cb8dd4fa61e92892345859ad.jpg  \n",
            " extracting: valid/images/shutterstock_editorial_10536831j_2e16d0ba_fill-1200x650_jpg.rf.c77c476c19e1ef443057d7ff1a1c9396.jpg  \n",
            " extracting: valid/images/sdgdsgsg_jpg.rf.f6f5f4d4bc541a470631516b804fa642.jpg  \n",
            " extracting: valid/images/REVZGCBIJNQPMIIXOKDCQA3GJI_jpg.rf.ca8353dc437234ee009df613c8b34137.jpg  \n",
            " extracting: valid/images/r1400018548960op29s_jpg.rf.d052eff94795b87ea6ad365aef959779.jpg  \n",
            " extracting: valid/images/15150794626913_jpg.rf.fd41a2c638de913958a46ee288deb908.jpg  \n",
            " extracting: train/images/sgssgg_jpeg.rf.f8a8d53430471346c8e823f41dd44afc.jpg  \n",
            " extracting: valid/images/08165739_jpg.rf.68cc16cde41ba8799e983506931416b8.jpg  \n",
            " extracting: valid/images/us-state-department-warns-against-visiting-china-citing-coronavirus_jpg.rf.e3a632121d73efda9ad7c4c5d5000bad.jpg  \n",
            " extracting: valid/images/1196686205_jpg_14_jpg.rf.ff88135a0f165ca412244980acfbe591.jpg  \n",
            " extracting: valid/images/1125506397_15801322206581n_jpg.rf.e5618d107f187fa409de96fcc56148ff.jpg  \n",
            " extracting: valid/images/shutterstock_1145933543-e1579497052960_jpg.rf.f3807b96202c59d946e24047e52e92d0.jpg  \n",
            " extracting: test/labels/w1240-p16x9-0e48e0098f6e832f27d8b581b33bbc72b9967a63_jpg.rf.34ed1e8f70eebdabaf43ab9d40dc1c9b.txt  \n",
            " extracting: test/labels/RTX7CCFN_jpg.rf.66ed5c5054f30d933d19ab3d56ace004.txt  \n",
            " extracting: test/labels/the-first-day-of-wuhan-s-closure-some-people-fled-some-panicked_jpg.rf.0302fefb0879eb37736a704ca5d070ff.txt  \n",
            " extracting: test/labels/1288126-10255706714jpg_jpg.rf.95f7324cbfd48e0386e0660b5e932223.txt  \n",
            " extracting: test/labels/126202-untitled-design-13_jpg.rf.56b50d413464989bb2232448a8fbb915.txt  \n",
            " extracting: test/labels/r1p00017o8171pnq407_jpg.rf.6fd25b7219a249e97f54fcabf2b52726.txt  \n",
            " extracting: test/labels/w1240-p16x9-2019-10-04t075956z_1862636027_rc15d4d49d00_rtrmadp_3_hongkong-protests_jpg.rf.061f2c7f7d17a0b472510eadb717a0b9.txt  \n",
            " extracting: test/labels/w1240-p16x9-fa978043deff83fed485af12d16e39c61398fc30_jpg.rf.185d01b7e55e049c6661b8ecd49679fc.txt  \n",
            " extracting: test/labels/15391513329330sooq10859_jpg.rf.89c8524c2096175fa2c728e5d73f1c28.txt  \n",
            " extracting: test/labels/15391513324714o1n0r10n6_jpg.rf.a91fbc7be8a94ed3c48d2e4b35bd53bb.txt  \n",
            " extracting: test/labels/1579924271_jpg.rf.be5b27c2b2801bccc191e6dbd9bfccca.txt  \n",
            " extracting: test/labels/0_Concern-In-China-As-Mystery-Virus-Spreads_jpg.rf.3135dfc5feab288d76a4ccfd22dfc5bf.txt  \n",
            " extracting: test/labels/shutterstock_1627199179_jpg.rf.8432d033a37b3d142ec4ffcede508c7d.txt  \n",
            " extracting: test/labels/phplpE73q_jpg.rf.bd81cab9f8ff2674ce2e58278f7d37fa.txt  \n",
            " extracting: test/labels/1224331650_g_400-w_g_jpg.rf.b816f49e2d84044fc997a8cbd55c347d.txt  \n",
            " extracting: data.yaml               \n",
            " extracting: train/labels/1580128422_jpg.rf.182b42586c5d5ea95a75c17449c48ad3.txt  \n",
            " extracting: train/labels/pollution-mask-CE5HYF_jpg.rf.21d8ab9eb19a6cd10956c96a0cfeff57.txt  \n",
            " extracting: train/labels/1-200102094256105_png.rf.22dcc10b1378b9ea7f05c83d04c052aa.txt  \n",
            " extracting: train/labels/US-expands-coronavirus-screenings-United-suspends-some-flights-to-China_jpg.rf.1cf554343f0453f6e0a1bd2781cebea9.txt  \n",
            " extracting: train/labels/sdsdsff_jpg.rf.09e108ae66cf64a3e852ba71cd079040.txt  \n",
            " extracting: train/labels/ST_20190917_SPTHAZE_5120715_jpg.rf.09fb2eecb2449a63f1f239f5fbb713aa.txt  \n",
            " extracting: train/labels/w1240-p16x9-5f8aa310737f8e0e6c43d95a68a82b03b6f60106_jpg.rf.104bedd5b3bad4a0d0a453203e0617a3.txt  \n",
            " extracting: train/labels/so(24) (1)_jpg.rf.1f4af0bfb01c55eb2ebf890b72a6f58c.txt  \n",
            " extracting: train/labels/thumbnail-ba5c72edb320b49a69e86b05775c49b2-scaled-1_jpeg.rf.035d587add7bc2a6c7616d72e56bfad4.txt  \n",
            " extracting: train/labels/so(19)_jpg.rf.0f2cb945829d1efef8e7fdf7757bd27e.txt  \n",
            " extracting: train/labels/stsciRq_png.rf.32af3f507296909b52bed7d5649e6d45.txt  \n",
            " extracting: train/labels/Smog-Mask-PM2-5-Carbon-Filter-Face-Masks-Fog-Dust-Air-Cleaner-anti-pollution-Face-Protector_jpg.rf.282b5e45b24750c08d6ea03ec9120177.txt  \n",
            " extracting: train/labels/Untitled-design-13_png.rf.612ee6f2911872a9bc2a7de326dea042.txt  \n",
            " extracting: train/labels/r1p00017o82psp0o0or_jpg.rf.4bd9169e3618ad676e3840939a868342.txt  \n",
            " extracting: train/labels/1152x768_246964803156_jpg.rf.3ea9205f57b870e2ca83cc18349402f4.txt  \n",
            " extracting: train/labels/0002526673_jpg.rf.2c547115c01c1b5a10c6d467551f0cae.txt  \n",
            " extracting: train/labels/1_13_jpg.rf.53ab50cc136587dec9d42678014977f1.txt  \n",
            " extracting: train/labels/PRI_129079114_1580299603_195_jpg.rf.4906d1ce61ad9a5c86ccfe7e4e261159.txt  \n",
            " extracting: train/labels/1_R_kFK9pNLfKAuopY_lAaPQ_jpeg.rf.6099e0a6d528f19fa772e7aa9f1755e5.txt  \n",
            " extracting: train/labels/TASS38012699_jpg.rf.2ae7b2aacba7e9e3eeb8dd3df8df8baf.txt  \n",
            " extracting: train/labels/UDD3JG3E4JFQ5KSFNGQQ5REINU_jpg.rf.407dec06f156a19662ff3e2cb2719dce.txt  \n",
            " extracting: train/labels/TB2R28UvUOWBKNjSZKzXXXfWFXa_!!1116877752_jpg.rf.246ac310a70b6f9a13d530c71816a5af.txt  \n",
            " extracting: train/labels/000b7b75-1600_jpg.rf.5d7117e8571505dbfe49e2f737089ea0.txt  \n",
            " extracting: train/labels/125895-untitled-design-30_jpg.rf.6465ad60ebf89d2ea25dded290c87583.txt  \n",
            " extracting: train/labels/RTX1GIDS_jpg.rf.5b4032f806a5d6f517ee374f27bd1f63.txt  \n",
            " extracting: train/labels/pic_list_out_2285_jpg.rf.3ff40a6045e4046772bc2c2645ccc645.txt  \n",
            " extracting: train/labels/1303078448-China-Coronavirus-Death-Toll-Hits-304_jpg.rf.353f9ffe10e6823c6c363687d88441ba.txt  \n",
            " extracting: train/labels/130624011830-malaysia-smog-students-horizontal-large-gallery_jpg.rf.52c2d92bc918a8bf50e76895031ec3a0.txt  \n",
            " extracting: train/labels/unnamed_jpg.rf.638850185c6f05a027f34188518f6a9e.txt  \n",
            " extracting: train/labels/shutterstock_289132226_jpg.rf.2fb2653c829b5d8f4442db65341441c0.txt  \n",
            " extracting: train/labels/1125506397_15801322207531n_jpg.rf.2c690122cfecf93fe31fcd327986e0e2.txt  \n",
            " extracting: train/labels/0450908675_50159485_mutation-virus-chine-inquietude_jpg.rf.466d55e174c1bc43889c49b06aad0d75.txt  \n",
            " extracting: train/labels/1249493_jpg.rf.64cad435d15dc175168c3595c69d0de2.txt  \n",
            " extracting: train/labels/1125506397_15801322207071n_jpg.rf.4af8170b619c5e1992c9ffd14c60d031.txt  \n",
            " extracting: train/labels/ST_20170401_EASAND_3046471_jpg.rf.53b81c9038b86e2964978d3d9eefea8f.txt  \n",
            " extracting: train/labels/sars-gettyimages-157005245_jpg.rf.5f33a6bd1f780b98e348507f3835d4d6.txt  \n",
            " extracting: train/labels/rally-against-an-anti-mask-law-meant-to-deter-anti-government-protesters-in-hong-kong-china-shutterstock-editorial-10435716z_jpg.rf.67084d16d65a043ace3f2e66af294654.txt  \n",
            " extracting: train/labels/0_8w7mkX-PHcfMM5s6_jpeg.rf.74932d662e4077ea5e4374a0038e5757.txt  \n",
            " extracting: train/labels/0602623232127-web-tete_jpg.rf.70c23b5e96669fb4f31a7cbd6d52a670.txt  \n",
            " extracting: train/labels/IMG_5690 2_jpg.rf.77600927c589b6817b9ac8349615381f.txt  \n",
            " extracting: train/labels/0200b38c89b16c37c5de8e247bb00c2f_jpg.rf.6a5b142fd82320d571402836bce2cf0a.txt  \n",
            " extracting: train/labels/W37H3GWNO5EV5HTJQNP4KLIRGI_jpg.rf.6b7420e9e1049f6ac7241cce59dcc6a8.txt  \n",
            " extracting: train/labels/1000x-1_jpg.rf.743291b4977f67bdd59a05ee98c9e28b.txt  \n",
            " extracting: train/labels/1042977068_jpg.rf.84c3af9736d1fe2db012d0e91aee5b23.txt  \n",
            " extracting: train/labels/1024x576_939430607723_jpg.rf.7048dfb767a151c5565c1470cec10027.txt  \n",
            " extracting: train/labels/0_10725_jpg.rf.99ff78c82dadd6d49408164489cb6582.txt  \n",
            " extracting: train/labels/purchase-reauisition-5de4d0f99c77d_jpg.rf.9757c9222d6e966e98faa8019a23ba0f.txt  \n",
            " extracting: train/labels/1553605632_9d5877d8_60_jpg.rf.827ad9a39f672aba0756c9ac68d25239.txt  \n",
            " extracting: train/labels/pjecDNMmCUQmbDoJx1fdqolnfHtpsfFK8jTA2Ng0wNg_jpeg.rf.8fe47f350be6db2c10adbc41c7f55e5b.txt  \n",
            " extracting: train/labels/1030611863_jpg.rf.aa3b539ebd06efc89eab0b823f128b96.txt  \n",
            " extracting: train/labels/004_1024_jpeg.rf.763d99dadfb9fe5f3f72ff3cc34f88b6.txt  \n",
            " extracting: train/labels/w1240-p16x9-6f1db5e0460631cfa98d2d6d8032942f81700bb0_jpg.rf.8c642180c2f1fc98109dad7ff09fe24c.txt  \n",
            " extracting: train/labels/1580173904-0001oc33f_jpg.rf.7f27c2bbdd00c11ba838ab7bb71694f4.txt  \n",
            " extracting: train/labels/soooo_jpg.rf.accf5a6d0b0fe444b354a2d293821715.txt  \n",
            " extracting: train/labels/1579928067_250120120154270000005e2bca03bf464_jpg.rf.a50ec0a4e4fcb491cce7766877b04c05.txt  \n",
            " extracting: train/labels/rawImage_jpg.rf.8bdbe22463c3162f05180ff91e67f039.txt  \n",
            " extracting: train/labels/1580166133-5b61094cac11561b0cbe09826e32a924_jpg.rf.7bdada2e62db2019a9a2f936083467c1.txt  \n",
            " extracting: train/labels/1029731146_jpg.rf.7c43f38028cd269068c0ea434b88a5c7.txt  \n",
            " extracting: train/labels/-1x-1_jpg.rf.8d697c00929e06e6655c08835cc66c02.txt  \n",
            " extracting: train/labels/r1000019q689461s9r0_jpg.rf.ae75478d4b2292f9d43a58dc102771df.txt  \n",
            " extracting: train/labels/-I1-MS09uaqsLdGTFkgnS0Rcg1mmPyAj95ySg_eckoM_jpeg.rf.8f09ebde8b7b3ea6f9180eff345ec176.txt  \n",
            " extracting: train/labels/PhotoGrid_1580452532909_jpg.rf.775b14bea12734249ff8fb91ba036856.txt  \n",
            " extracting: train/labels/1133x768_20200130000023_jpg.rf.aa3997898dca01ea870b9cba18d5e3cf.txt  \n",
            " extracting: train/labels/1580053154-5839_jpg.rf.b5682ce5d695469972b6b564e9d1f0ef.txt  \n",
            " extracting: train/labels/r1p00017o80q34s9781_jpg.rf.ce1875a23da51004225ab183255da6c5.txt  \n",
            " extracting: train/labels/sdfsdfsfff_jpg.rf.c4aca6cc392df43f61e14ac002741ab6.txt  \n",
            " extracting: train/labels/012106_jpg_1140x855_jpg.rf.c6524deb426da2c246a03ac0e610f0cb.txt  \n",
            " extracting: train/labels/RZXE24HFK5GSVKVSN57VCVPQ4M_jpg.rf.b60c1ee75de4ff9d4259198376ebb277.txt  \n",
            " extracting: train/labels/1579683152-0e3ba5698b090c0fda95caa5d2aa7b31_jpg.rf.b49395264ccc2be2784ab367a8ac1307.txt  \n",
            " extracting: train/labels/1539151332674193npsrq70_jpg.rf.c1fc5c301d12d8a77bd0bfc961876397.txt  \n",
            " extracting: train/labels/003_1024_jpeg.rf.bc025d99896124ddce6fa706b4a5c7b3.txt  \n",
            " extracting: train/labels/skynews-coronavirus-london-fashion-week_4920359_jpg.rf.cf79aa98be9f8687d550dc35caf9edb6.txt  \n",
            " extracting: train/labels/phppaNXxb_jpg.rf.c406fdd46ea2438e4f111a6a35250d5a.txt  \n",
            " extracting: train/labels/smartmi-3pcs-filter-mask-pm25-haze-dustproof-mask-with-vent_jpg.rf.c5b0c5b7666032c5b4634740eafde234.txt  \n",
            " extracting: train/labels/thai_cov-transmission030220_jpg.rf.bdec1f9f73cff2be8d795fcc7665525b.txt  \n",
            " extracting: train/labels/000_1ov3n5_0_jpeg.rf.a23f1c89491779996f4519858277a4e0.txt  \n",
            " extracting: train/labels/virus_protection123_jpg.rf.d401b0dc63d28e5afed1324e32b5e985.txt  \n",
            " extracting: train/labels/shutterstock_584407723_jpg.rf.bb5ad9ec2eb1ae4510ee88524e453043.txt  \n",
            " extracting: train/labels/soo(1)_jpg.rf.d722163e3c3e0b9f1e4b7a73ea6893cb.txt  \n",
            " extracting: train/labels/1477443223-1445746883_jpg.rf.d05e6a29597722ffcdb222614c353915.txt  \n",
            " extracting: train/labels/101d6660a8974050b613dd2e6bd59390_jpg.rf.d2571bc2121193beb8e9f49af8fc7170.txt  \n",
            " extracting: train/labels/1125506397_15801322206131n_jpg.rf.da8fa082b994849888e09bb86b146aa0.txt  \n",
            " extracting: train/labels/virus_jpg.rf.dc9789ac36ce03125dccaad2f106ed90.txt  \n",
            " extracting: train/labels/remote (1)_jpeg.rf.df7fe4fb8181ab460fc57d04a9991de5.txt  \n",
            " extracting: train/labels/1422808187-3291816118_jpg.rf.d9c28ba7c110caac049036d25e367b65.txt  \n",
            " extracting: train/labels/PHOTriZgIKIgsnNLdBJG75vj200203_1000x2000_jpg.rf.c21824c73f10288c1b316ecd78728b64.txt  \n",
            " extracting: train/labels/RTX7CD4D-e1580252893876_jpg.rf.d9113083bf979d446264b568cc49661a.txt  \n",
            " extracting: train/labels/1140-travelers-at-hong-kong-airport_jpg.rf.df931ff698a201d616311ed661b6a185.txt  \n",
            " extracting: train/labels/1482202839575_jpg.rf.e1a11347c2af5242298a581202adaee0.txt  \n",
            " extracting: train/labels/012420_coronoa_masks_web_jpg.rf.dcc655a29611260a439d59c13b0cad1a.txt  \n",
            " extracting: train/labels/r1p00017o8357s6sno6_jpg.rf.e189080820479c894db2ff1725a7cbe0.txt  \n",
            " extracting: train/labels/1155x768_20200129000089_jpg.rf.e89d69a1fa6fc7cf08e8c30317f7274d.txt  \n",
            " extracting: train/labels/0209-00176-076b1_jpg.rf.e9d992f7258f2c5ae8c29f76a727efda.txt  \n",
            " extracting: train/labels/135e-huxwryw6451820_jpg.rf.e8f7c5a306ba8b15ab37577bae196c2f.txt  \n",
            " extracting: train/labels/1024x737_09186876046_jpg.rf.e999eaf25d69174a9c12b9777042b267.txt  \n",
            " extracting: train/labels/Surgical-Mask-Effectiveness_jpg.rf.ecee1d8215799c8eacb670622f814af9.txt  \n",
            " extracting: train/labels/upload-productImg-1527496119162_320_234_jpeg.rf.d7affc7d5fe3df8bc9a7c5b9678a3c3c.txt  \n",
            " extracting: train/labels/r1000019q679o5611r7_jpg.rf.edff9783255fac6a6ee79a6e985c7af9.txt  \n",
            " extracting: train/labels/skypost16012020a01s_jpg.rf.f52aa2d35c2002c3003e1771ea8e650d.txt  \n",
            " extracting: train/labels/1288788-une-employee-aide-des-voyageurs-en-provenance-de-chine-le-26-janvier-2020-a-l-aeroport-de-roissy_jpg.rf.f896f89876de52df2fed7086bc94d1fd.txt  \n",
            " extracting: train/labels/15-08608-001_jpg.rf.f23eeb640db01b5c025ae54c9c6f3d7f.txt  \n",
            " extracting: train/labels/001_1024_jpeg.rf.f915f4689737658b59732df33fdbee22.txt  \n",
            " extracting: train/labels/11893820-3x2-xlarge_jpg.rf.ff6ffd94fa9e0d9dcfcc97380f0aede5.txt  \n",
            " extracting: train/labels/1580048340614_jpg.rf.fef748a304d19ffc7c5250005c4a397d.txt  \n",
            " extracting: train/labels/sgssgg_jpeg.rf.f8a8d53430471346c8e823f41dd44afc.txt  \n",
            "replace data.yaml? [y]es, [n]o, [A]ll, [N]one, [r]ename: "
          ],
          "name": "stdout"
        }
      ]
    },
    {
      "cell_type": "markdown",
      "metadata": {
        "id": "LooXA8cGW8A7"
      },
      "source": [
        "# **Step 3: Create the custom model configuration file**"
      ]
    },
    {
      "cell_type": "code",
      "metadata": {
        "id": "ZZ3DmmGQztJj"
      },
      "source": [
        "#extracting information from the roboflow file\n",
        "%cat data.yaml"
      ],
      "execution_count": null,
      "outputs": []
    },
    {
      "cell_type": "code",
      "metadata": {
        "id": "WkHH9bNiu1EO"
      },
      "source": [
        "# define number of classes based on data.yaml\n",
        "import yaml\n",
        "with open(\"data.yaml\", 'r') as stream:\n",
        "    num_classes = str(yaml.safe_load(stream)['nc'])"
      ],
      "execution_count": null,
      "outputs": []
    },
    {
      "cell_type": "code",
      "metadata": {
        "id": "Z814lxPAvBz7"
      },
      "source": [
        "%cat /content/yolov5/models/yolov5s.yaml"
      ],
      "execution_count": null,
      "outputs": []
    },
    {
      "cell_type": "code",
      "metadata": {
        "id": "oojOSw3GvIsT"
      },
      "source": [
        "#customize iPython writefile so we can write variables\n",
        "from IPython.core.magic import register_line_cell_magic\n",
        "\n",
        "@register_line_cell_magic\n",
        "def writetemplate(line, cell):\n",
        "    with open(line, 'w') as f:\n",
        "        f.write(cell.format(**globals()))"
      ],
      "execution_count": null,
      "outputs": []
    },
    {
      "cell_type": "code",
      "metadata": {
        "id": "uDxebz13RdRA"
      },
      "source": [
        "%%writetemplate /content/yolov5/models/custom_yolov5s.yaml\n",
        "\n",
        "# parameters\n",
        "nc: {num_classes}  # number of classes\n",
        "depth_multiple: 0.33  # model depth multiple\n",
        "width_multiple: 0.50  # layer channel multiple\n",
        "\n",
        "# anchors\n",
        "anchors:\n",
        "  - [10,13, 16,30, 33,23]  # P3/8\n",
        "  - [30,61, 62,45, 59,119]  # P4/16\n",
        "  - [116,90, 156,198, 373,326]  # P5/32\n",
        "\n",
        "# YOLOv5 backbone\n",
        "backbone:\n",
        "  # [from, number, module, args]\n",
        "  [[-1, 1, Focus, [64, 3]],  # 0-P1/2\n",
        "   [-1, 1, Conv, [128, 3, 2]],  # 1-P2/4\n",
        "   [-1, 3, BottleneckCSP, [128]],\n",
        "   [-1, 1, Conv, [256, 3, 2]],  # 3-P3/8\n",
        "   [-1, 9, BottleneckCSP, [256]],\n",
        "   [-1, 1, Conv, [512, 3, 2]],  # 5-P4/16\n",
        "   [-1, 9, BottleneckCSP, [512]],\n",
        "   [-1, 1, Conv, [1024, 3, 2]],  # 7-P5/32\n",
        "   [-1, 1, SPP, [1024, [5, 9, 13]]],\n",
        "   [-1, 3, BottleneckCSP, [1024, False]],  # 9\n",
        "  ]\n",
        "\n",
        "# YOLOv5 head\n",
        "head:\n",
        "  [[-1, 1, Conv, [512, 1, 1]],\n",
        "   [-1, 1, nn.Upsample, [None, 2, 'nearest']],\n",
        "   [[-1, 6], 1, Concat, [1]],  # cat backbone P4\n",
        "   [-1, 3, BottleneckCSP, [512, False]],  # 13\n",
        "\n",
        "   [-1, 1, Conv, [256, 1, 1]],\n",
        "   [-1, 1, nn.Upsample, [None, 2, 'nearest']],\n",
        "   [[-1, 4], 1, Concat, [1]],  # cat backbone P3\n",
        "   [-1, 3, BottleneckCSP, [256, False]],  # 17 (P3/8-small)\n",
        "\n",
        "   [-1, 1, Conv, [256, 3, 2]],\n",
        "   [[-1, 14], 1, Concat, [1]],  # cat head P4\n",
        "   [-1, 3, BottleneckCSP, [512, False]],  # 20 (P4/16-medium)\n",
        "\n",
        "   [-1, 1, Conv, [512, 3, 2]],\n",
        "   [[-1, 10], 1, Concat, [1]],  # cat head P5\n",
        "   [-1, 3, BottleneckCSP, [1024, False]],  # 23 (P5/32-large)\n",
        "\n",
        "   [[17, 20, 23], 1, Detect, [nc, anchors]],  # Detect(P3, P4, P5)\n",
        "  ]"
      ],
      "execution_count": null,
      "outputs": []
    },
    {
      "cell_type": "markdown",
      "metadata": {
        "id": "TAUZD9J_XSj8"
      },
      "source": [
        "# **Step 4: Train yolov5 on the custom images using the custom configuration file**"
      ]
    },
    {
      "cell_type": "code",
      "metadata": {
        "id": "1NcFxRcFdJ_O"
      },
      "source": [
        "# train yolov5s on custom data for 100 epochs\n",
        "# time its performance\n",
        "%%time\n",
        "%cd /content/yolov5/\n",
        "!python train.py --img 416 --batch 16 --epochs 100 --data '../data.yaml' --cfg ./models/custom_yolov5s.yaml --weights '' --name yolov5s_results  --cache"
      ],
      "execution_count": null,
      "outputs": []
    },
    {
      "cell_type": "markdown",
      "metadata": {
        "id": "iDpFbc3aXjGw"
      },
      "source": [
        "#**Step 5: Run yolov5 detection on images.**\n",
        "# *Don't forget to copy the location of the weights file and replace it in the code below*"
      ]
    },
    {
      "cell_type": "code",
      "metadata": {
        "id": "PF9MLHDb7tB6"
      },
      "source": [
        "!python detect.py --weights runs/exp0_yolov5s_results/weights/best.pt --img 416 --conf 0.4 --source ../test/images"
      ],
      "execution_count": null,
      "outputs": []
    },
    {
      "cell_type": "code",
      "metadata": {
        "id": "4Gb0sQDy3TvJ"
      },
      "source": [
        "import glob\n",
        "from IPython.display import Image, display\n",
        "\n",
        "for imageName in glob.glob('/content/yolov5/inference/output/*.jpg'):\n",
        "    display(Image(filename=imageName))\n",
        "    print(\"\\n\")"
      ],
      "execution_count": null,
      "outputs": []
    }
  ]
}